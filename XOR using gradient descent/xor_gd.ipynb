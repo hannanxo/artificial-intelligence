{
 "cells": [
  {
   "cell_type": "code",
   "execution_count": 1,
   "id": "c73186f2",
   "metadata": {},
   "outputs": [],
   "source": [
    "import pandas as pd \n",
    "import numpy as np"
   ]
  },
  {
   "cell_type": "code",
   "execution_count": 2,
   "id": "fedd76ed",
   "metadata": {},
   "outputs": [
    {
     "data": {
      "text/html": [
       "<div>\n",
       "<style scoped>\n",
       "    .dataframe tbody tr th:only-of-type {\n",
       "        vertical-align: middle;\n",
       "    }\n",
       "\n",
       "    .dataframe tbody tr th {\n",
       "        vertical-align: top;\n",
       "    }\n",
       "\n",
       "    .dataframe thead th {\n",
       "        text-align: right;\n",
       "    }\n",
       "</style>\n",
       "<table border=\"1\" class=\"dataframe\">\n",
       "  <thead>\n",
       "    <tr style=\"text-align: right;\">\n",
       "      <th></th>\n",
       "      <th>A</th>\n",
       "      <th>B</th>\n",
       "      <th>Output</th>\n",
       "    </tr>\n",
       "  </thead>\n",
       "  <tbody>\n",
       "    <tr>\n",
       "      <th>0</th>\n",
       "      <td>0</td>\n",
       "      <td>0</td>\n",
       "      <td>0</td>\n",
       "    </tr>\n",
       "    <tr>\n",
       "      <th>1</th>\n",
       "      <td>0</td>\n",
       "      <td>1</td>\n",
       "      <td>1</td>\n",
       "    </tr>\n",
       "    <tr>\n",
       "      <th>2</th>\n",
       "      <td>1</td>\n",
       "      <td>0</td>\n",
       "      <td>1</td>\n",
       "    </tr>\n",
       "    <tr>\n",
       "      <th>3</th>\n",
       "      <td>1</td>\n",
       "      <td>1</td>\n",
       "      <td>0</td>\n",
       "    </tr>\n",
       "  </tbody>\n",
       "</table>\n",
       "</div>"
      ],
      "text/plain": [
       "   A  B  Output\n",
       "0  0  0       0\n",
       "1  0  1       1\n",
       "2  1  0       1\n",
       "3  1  1       0"
      ]
     },
     "execution_count": 2,
     "metadata": {},
     "output_type": "execute_result"
    }
   ],
   "source": [
    "#initialize list of lists\n",
    "data = [[0, 0, 0], [0, 1, 1], [1, 0, 1], [1, 1, 0]]\n",
    " \n",
    "# Create the pandas DataFrame\n",
    "df = pd.DataFrame(data, columns = ['A', 'B', 'Output'])\n",
    " \n",
    "df"
   ]
  },
  {
   "cell_type": "code",
   "execution_count": 3,
   "id": "89b1494f",
   "metadata": {},
   "outputs": [],
   "source": [
    "features = df[['A','B']]\n",
    "labels = df['Output']"
   ]
  },
  {
   "cell_type": "code",
   "execution_count": 4,
   "id": "6686a98a",
   "metadata": {},
   "outputs": [],
   "source": [
    "#Convert into numpy array\n",
    "features = np.array(features)\n",
    "labels = np.array(labels)\n",
    "weight = np.random.rand(2,1)\n",
    "bias = np.random.rand()"
   ]
  },
  {
   "cell_type": "code",
   "execution_count": 5,
   "id": "33eac56b",
   "metadata": {},
   "outputs": [],
   "source": [
    "#Net Input Activation:\n",
    "Z = np.dot(weight.T, features.T) + bias \n",
    " #Where we multiply each feature x with it's corresponding weight w and then sum all of the resulting values to \n",
    " #get a single value Z for each feature x."
   ]
  },
  {
   "cell_type": "code",
   "execution_count": 6,
   "id": "4a9c390d",
   "metadata": {},
   "outputs": [],
   "source": [
    "#Activation function\n",
    "def sigmoid(x):\n",
    "    return 1/(1 + np.exp(-x))\n",
    " #Then we apply the sigmoid function on the single Z value"
   ]
  },
  {
   "cell_type": "code",
   "execution_count": 74,
   "id": "e4522ed9",
   "metadata": {},
   "outputs": [],
   "source": [
    "#Function to calculate accuracy\n",
    "def accuracy(expected, original):\n",
    "    score = 100\n",
    "    expected = np.reshape(expected , (4,))\n",
    "    a = expected.tolist()\n",
    "    b = original.tolist()\n",
    "    for i, j in zip(a, b):\n",
    "        if(i != j):\n",
    "            score = score - 25\n",
    "    print(\"Loss : \", 100 - score)\n",
    "    print(\"Accuracy : \", score)\n",
    "    print(\"..................\")"
   ]
  },
  {
   "cell_type": "code",
   "execution_count": 76,
   "id": "af799a61",
   "metadata": {},
   "outputs": [
    {
     "name": "stdout",
     "output_type": "stream",
     "text": [
      "Loss :  50\n",
      "Accuracy :  50\n",
      "..................\n",
      "Loss :  50\n",
      "Accuracy :  50\n",
      "..................\n",
      "Loss :  25\n",
      "Accuracy :  75\n",
      "..................\n",
      "Loss :  75\n",
      "Accuracy :  25\n",
      "..................\n",
      "Loss :  25\n",
      "Accuracy :  75\n",
      "..................\n",
      "Loss :  50\n",
      "Accuracy :  50\n",
      "..................\n",
      "Loss :  50\n",
      "Accuracy :  50\n",
      "..................\n",
      "Loss :  50\n",
      "Accuracy :  50\n",
      "..................\n",
      "Loss :  50\n",
      "Accuracy :  50\n",
      "..................\n",
      "Loss :  50\n",
      "Accuracy :  50\n",
      "..................\n"
     ]
    }
   ],
   "source": [
    "#running epochs here\n",
    "weight = np.random.rand(2,1)\n",
    "bias = np.random.rand()\n",
    "alpha = 0.44\n",
    "featureType = features.shape[1]\n",
    "\n",
    "for i in range(10): #running 10 epochs\n",
    "    Z = np.dot(weight.T, features.T) + bias #Net Input function\n",
    "    A = sigmoid(Z) #Activation function to get values between 0-1\n",
    "    A = np.where(A < 0.5, 0, 1) #Putting a cap on values so that values less than 0.5 become 0 and greater values become 1\n",
    "    acc = accuracy(A, labels)\n",
    "    #Finding derivatives\n",
    "    dz = A - np.reshape(labels, (1,4)) #gives us inaccurately predicted labels as 1\n",
    "    dw = np.dot(features.T, dz.T)/featureType #derivative of weight w.r.t feature\n",
    "    db = np.sum(dz, axis=1)/featureType #derivative of bias\n",
    "    #Updating weights and bias\n",
    "    weight = weight - alpha * dw\n",
    "    bias = bias - alpha * db"
   ]
  },
  {
   "cell_type": "code",
   "execution_count": null,
   "id": "6cd5b5ff",
   "metadata": {},
   "outputs": [],
   "source": []
  }
 ],
 "metadata": {
  "kernelspec": {
   "display_name": "Python 3",
   "language": "python",
   "name": "python3"
  },
  "language_info": {
   "codemirror_mode": {
    "name": "ipython",
    "version": 3
   },
   "file_extension": ".py",
   "mimetype": "text/x-python",
   "name": "python",
   "nbconvert_exporter": "python",
   "pygments_lexer": "ipython3",
   "version": "3.8.8"
  }
 },
 "nbformat": 4,
 "nbformat_minor": 5
}
